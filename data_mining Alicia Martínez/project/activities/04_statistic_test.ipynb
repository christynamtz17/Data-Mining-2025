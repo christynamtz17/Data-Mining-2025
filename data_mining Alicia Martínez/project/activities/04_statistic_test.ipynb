{
 "cells": [
  {
   "cell_type": "markdown",
   "metadata": {},
   "source": [
    "# Pruebas Estadísticas\n",
    "\n",
    "**Actividad 4**\n",
    "\n",
    "Alicia Christyna Martínez Parra"
   ]
  },
  {
   "cell_type": "code",
   "execution_count": 1,
   "metadata": {},
   "outputs": [],
   "source": [
    "import pandas as pd\n",
    "from utils import path_loader as p\n",
    "from scipy.stats import ttest_ind, f_oneway, kruskal"
   ]
  },
  {
   "cell_type": "code",
   "execution_count": 2,
   "metadata": {},
   "outputs": [
    {
     "name": "stdout",
     "output_type": "stream",
     "text": [
      "CSV File loaded succesfully!\n",
      "There are 18249 rows and 13 columns\n"
     ]
    }
   ],
   "source": [
    "# Load csv file\n",
    "try:\n",
    "    df = pd.read_csv(p.generate_file_path(\n",
    "        file_name='avocado_prices_processed', file_extension='csv', directory='output'))\n",
    "\n",
    "    n_row, n_col = df.shape\n",
    "    print(f'CSV File loaded succesfully!\\nThere are {n_row} rows and {n_col} columns')\n",
    "except Exception as e:\n",
    "    print(f'Something wrong happended!: {e}')"
   ]
  },
  {
   "cell_type": "code",
   "execution_count": 3,
   "metadata": {},
   "outputs": [
    {
     "name": "stdout",
     "output_type": "stream",
     "text": [
      "ANOVA Test:\n",
      "F-statistic: 11148.7937, p-value: 0.0000e+00\n",
      "\n",
      "T-Test:\n",
      "T-statistic: -105.5878, p-value: 0.0000e+00\n",
      "\n",
      "Kruskal-Wallis Test:\n",
      "H-statistic: 7563.4647, p-value: 0.0000e+00\n"
     ]
    }
   ],
   "source": [
    "group_col = 'type'  \n",
    "value_col = 'average_price'  \n",
    "\n",
    "# Ensure group_col is categorical\n",
    "df[group_col] = df[group_col].astype('category')\n",
    "\n",
    "# Split data into groups based on the chosen categorical column\n",
    "groups = [df[df[group_col] == level][value_col] for level in df[group_col].cat.categories]\n",
    "\n",
    "# Run ANOVA (parametric test)\n",
    "anova_result = f_oneway(*groups)\n",
    "\n",
    "# Run T-test for pairwise comparison if only two groups exist\n",
    "if len(groups) == 2:\n",
    "    ttest_result = ttest_ind(groups[0], groups[1])\n",
    "\n",
    "# Run Kruskal-Wallis (non-parametric test)\n",
    "kruskal_result = kruskal(*groups)\n",
    "\n",
    "# Display results\n",
    "print(\"ANOVA Test:\")\n",
    "print(f\"F-statistic: {anova_result.statistic:.4f}, p-value: {anova_result.pvalue:.4e}\")\n",
    "\n",
    "if len(groups) == 2:\n",
    "    print(\"\\nT-Test:\")\n",
    "    print(f\"T-statistic: {ttest_result.statistic:.4f}, p-value: {ttest_result.pvalue:.4e}\")\n",
    "\n",
    "print(\"\\nKruskal-Wallis Test:\")\n",
    "print(f\"H-statistic: {kruskal_result.statistic:.4f}, p-value: {kruskal_result.pvalue:.4e}\")\n"
   ]
  }
 ],
 "metadata": {
  "kernelspec": {
   "display_name": "venv",
   "language": "python",
   "name": "python3"
  },
  "language_info": {
   "codemirror_mode": {
    "name": "ipython",
    "version": 3
   },
   "file_extension": ".py",
   "mimetype": "text/x-python",
   "name": "python",
   "nbconvert_exporter": "python",
   "pygments_lexer": "ipython3",
   "version": "3.11.5"
  }
 },
 "nbformat": 4,
 "nbformat_minor": 2
}
